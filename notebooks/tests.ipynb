{
 "cells": [
  {
   "cell_type": "code",
   "execution_count": 1,
   "id": "bbd7cd68-22a3-4b68-8b6e-2d05d3ba14a9",
   "metadata": {},
   "outputs": [],
   "source": [
    "%load_ext autoreload\n",
    "%autoreload 2"
   ]
  },
  {
   "cell_type": "code",
   "execution_count": 5,
   "id": "1e1ba1bb-47c2-40b1-8930-6231439510cb",
   "metadata": {},
   "outputs": [],
   "source": [
    "import sys\n",
    "sys.path.insert(1, '/home/jpal/dev/resume_be/src')"
   ]
  },
  {
   "cell_type": "code",
   "execution_count": 10,
   "id": "95302591-1374-4e4b-8c81-64b0323eb45d",
   "metadata": {},
   "outputs": [],
   "source": [
    "from funcs import get_visitors, add_visitors, sub_visitors"
   ]
  },
  {
   "cell_type": "code",
   "execution_count": 9,
   "id": "2124d451-eb81-4f20-853f-736096f587be",
   "metadata": {},
   "outputs": [
    {
     "data": {
      "text/plain": [
       "{'statusCode': 200, 'body': '3'}"
      ]
     },
     "execution_count": 9,
     "metadata": {},
     "output_type": "execute_result"
    }
   ],
   "source": [
    "payload={'key': 1}\n",
    "\n",
    "get_visitors(payload,payload)"
   ]
  },
  {
   "cell_type": "code",
   "execution_count": 11,
   "id": "79e7c2f9-583e-479a-bea6-5738ff54e681",
   "metadata": {},
   "outputs": [],
   "source": [
    "class TestFuncs:\n",
    "    payload = { 'key' : 1 }\n",
    "    \n",
    "    def test_get_visitors(self):\n",
    "        res = get_visitors(self.payload, self.payload)\n",
    "        \n",
    "        assert type(res) == 'dict'\n",
    "        assert res['status'] == 200\n",
    "        self.count = int(res['body'])\n",
    "    \n",
    "    def test_add_visitors(self):\n",
    "        res = add_visitors(self.payload, self.payload)\n",
    "        \n",
    "        assert res['status'] == 200\n",
    "        assert int(res['body']) == self.count + 1\n",
    "        self.count = int(res['body'])\n",
    "    \n",
    "    def test_sub_visitors(self):\n",
    "        res = sub_visitors(self.payload, self.payload)\n",
    "        \n",
    "        assert res['status'] == 200\n",
    "        assert int(res['body']) == self.count - 1\n",
    "    \n",
    "    "
   ]
  },
  {
   "cell_type": "code",
   "execution_count": 31,
   "id": "fc4a73d6-c5a1-45fc-ace4-2377eb6f4b11",
   "metadata": {},
   "outputs": [],
   "source": [
    "class Test(object):\n",
    "    payload = 10\n",
    "    count = 0\n",
    "    \n",
    "    def get_payload(self):\n",
    "        return self.payload\n",
    "    \n",
    "    def assign_val(self):\n",
    "        self.count = 14\n",
    "    \n",
    "    def get_val(self):\n",
    "        return self.count"
   ]
  },
  {
   "cell_type": "code",
   "execution_count": 38,
   "id": "11e96654-d1d3-44dc-8ab5-5c2879b5c8fc",
   "metadata": {},
   "outputs": [],
   "source": [
    "count = 10\n",
    "\n",
    "def get_count():\n",
    "    return count\n",
    "\n",
    "def add_count(count):\n",
    "    count += 1"
   ]
  },
  {
   "cell_type": "code",
   "execution_count": 40,
   "id": "dbe084fe-54ad-498c-84ee-92bca4ef68ee",
   "metadata": {},
   "outputs": [
    {
     "data": {
      "text/plain": [
       "10"
      ]
     },
     "execution_count": 40,
     "metadata": {},
     "output_type": "execute_result"
    }
   ],
   "source": [
    "add_count(count)\n",
    "get_count()"
   ]
  },
  {
   "cell_type": "code",
   "execution_count": null,
   "id": "69442626-33a4-450a-aea7-2f302b284a4b",
   "metadata": {},
   "outputs": [],
   "source": []
  }
 ],
 "metadata": {
  "kernelspec": {
   "display_name": "Python 3 (ipykernel)",
   "language": "python",
   "name": "python3"
  },
  "language_info": {
   "codemirror_mode": {
    "name": "ipython",
    "version": 3
   },
   "file_extension": ".py",
   "mimetype": "text/x-python",
   "name": "python",
   "nbconvert_exporter": "python",
   "pygments_lexer": "ipython3",
   "version": "3.11.0"
  }
 },
 "nbformat": 4,
 "nbformat_minor": 5
}
