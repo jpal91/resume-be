{
 "cells": [
  {
   "cell_type": "code",
   "execution_count": 3,
   "id": "8daaddfc-4686-4be8-ac23-7f77f3b6baa0",
   "metadata": {},
   "outputs": [],
   "source": [
    "%load_ext autoreload\n",
    "%autoreload 2"
   ]
  },
  {
   "cell_type": "code",
   "execution_count": 4,
   "id": "e3120910-23b7-4a07-942b-85c6a6a14c1d",
   "metadata": {},
   "outputs": [],
   "source": [
    "import json\n",
    "import boto3"
   ]
  },
  {
   "cell_type": "code",
   "execution_count": 5,
   "id": "c86e00b4-aa22-4581-ad3c-abbb33522708",
   "metadata": {},
   "outputs": [],
   "source": [
    "def get_visitors(event, context):\n",
    "    ddb = boto3.resource('dynamodb')\n",
    "    table = ddb.Table('resume_viz_count')\n",
    "    \n",
    "    item = table.get_item(\n",
    "            Key={\n",
    "                'Id': 'main'\n",
    "            }\n",
    "        )['Item']['v_count']\n",
    "    \n",
    "    return {\n",
    "        'statusCode': 200,\n",
    "        'body': json.dumps(int(item))\n",
    "    }"
   ]
  },
  {
   "cell_type": "code",
   "execution_count": 6,
   "id": "545efd2f-f231-4ee0-961a-3d648aaa3a0e",
   "metadata": {},
   "outputs": [],
   "source": [
    "def add_visitors(event, context):\n",
    "    ddb = boto3.resource('dynamodb')\n",
    "    table = ddb.Table('resume_viz_count')\n",
    "    key = {'Id': 'main'}\n",
    "    \n",
    "    current = table.update_item(\n",
    "        Key=key,\n",
    "        UpdateExpression='SET v_count = v_count + :p',\n",
    "        ExpressionAttributeValues={\":p\": 1},\n",
    "        ReturnValues='UPDATED_NEW'\n",
    "    )['Attributes']['v_count']\n",
    "    \n",
    "    return {\n",
    "        'statusCode': 200,\n",
    "        'body': json.dumps(int(current))\n",
    "    }"
   ]
  },
  {
   "cell_type": "code",
   "execution_count": 7,
   "id": "403a1af0-f16b-4118-be17-3a6f81dc011b",
   "metadata": {},
   "outputs": [],
   "source": [
    "def sub_visitors(event, context):\n",
    "    ddb = boto3.resource('dynamodb')\n",
    "    table = ddb.Table('resume_viz_count')\n",
    "    key = {'Id': 'main'}\n",
    "    \n",
    "    current = table.update_item(\n",
    "        Key=key,\n",
    "        UpdateExpression='SET v_count = v_count - :p',\n",
    "        ExpressionAttributeValues={\":p\": 1},\n",
    "        ReturnValues='UPDATED_NEW'\n",
    "    )['Attributes']['v_count']\n",
    "    \n",
    "    return {\n",
    "        'statusCode': 200,\n",
    "        'body': json.dumps(int(current))\n",
    "    }"
   ]
  },
  {
   "cell_type": "code",
   "execution_count": 8,
   "id": "2bea0897-ac43-458a-b552-b065d938c134",
   "metadata": {},
   "outputs": [],
   "source": [
    "payload={'test': 1}\n",
    "res1 = get_visitors(payload, payload)"
   ]
  },
  {
   "cell_type": "code",
   "execution_count": 9,
   "id": "7bba06ff-266d-4c37-9a47-c5e70268c56d",
   "metadata": {},
   "outputs": [],
   "source": [
    "res2 = add_visitors(payload, payload)"
   ]
  },
  {
   "cell_type": "code",
   "execution_count": 10,
   "id": "a1dd15c5-5ef4-43bb-8753-939dcc974f31",
   "metadata": {},
   "outputs": [],
   "source": [
    "res3 = sub_visitors(payload, payload)"
   ]
  },
  {
   "cell_type": "code",
   "execution_count": 14,
   "id": "38522aef-cb88-4d9d-aa24-54f2e3a37f85",
   "metadata": {},
   "outputs": [
    {
     "data": {
      "text/plain": [
       "True"
      ]
     },
     "execution_count": 14,
     "metadata": {},
     "output_type": "execute_result"
    }
   ],
   "source": [
    "type(res3) == dict"
   ]
  },
  {
   "cell_type": "code",
   "execution_count": null,
   "id": "902d0bb7-9b7f-458e-bc31-c98f93daaf80",
   "metadata": {},
   "outputs": [],
   "source": []
  },
  {
   "cell_type": "code",
   "execution_count": null,
   "id": "fe4589c3-a192-4738-b52b-6ed86fa3cd0e",
   "metadata": {},
   "outputs": [],
   "source": []
  }
 ],
 "metadata": {
  "kernelspec": {
   "display_name": "Python 3 (ipykernel)",
   "language": "python",
   "name": "python3"
  },
  "language_info": {
   "codemirror_mode": {
    "name": "ipython",
    "version": 3
   },
   "file_extension": ".py",
   "mimetype": "text/x-python",
   "name": "python",
   "nbconvert_exporter": "python",
   "pygments_lexer": "ipython3",
   "version": "3.11.0"
  }
 },
 "nbformat": 4,
 "nbformat_minor": 5
}
